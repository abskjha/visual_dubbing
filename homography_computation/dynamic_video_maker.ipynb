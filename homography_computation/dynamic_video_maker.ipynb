{
 "cells": [
  {
   "cell_type": "code",
   "execution_count": 10,
   "metadata": {},
   "outputs": [],
   "source": [
    "import sys, os\n",
    "import numpy as np\n",
    "import cv2\n",
    "import scipy.io as sio\n",
    "import tqdm"
   ]
  },
  {
   "cell_type": "code",
   "execution_count": 11,
   "metadata": {},
   "outputs": [],
   "source": [
    "import matplotlib.pyplot as plt\n",
    "from mpl_toolkits.mplot3d import Axes3D\n",
    "%matplotlib inline\n",
    "from sklearn.neighbors import NearestNeighbors"
   ]
  },
  {
   "cell_type": "code",
   "execution_count": 12,
   "metadata": {},
   "outputs": [],
   "source": [
    "def vid2img(filename):\n",
    "    cap=cv2.VideoCapture(filename)\n",
    "    success,frame=cap.read()\n",
    "    allImg=[]\n",
    "    while(success):\n",
    "        allImg.append(cv2.cvtColor(frame, cv2.COLOR_BGR2RGB))\n",
    "        success,frame=cap.read()\n",
    "    return allImg\n",
    "\n",
    "def allImg2vid(allImg, output_vid='output_body.mp4', frameRate=30):\n",
    "    vidCodec = cv2.VideoWriter_fourcc(*'XVID')\n",
    "    height, width, channel = allImg[0].shape\n",
    "    vidFile = cv2.VideoWriter(output_vid, vidCodec, frameRate, (width, height))\n",
    "    for i in tqdm.tqdm(range(0,len(allImg))):\n",
    "        frame = cv2.cvtColor(allImg[i],cv2.COLOR_RGB2BGR)\n",
    "        vidFile.write(frame)\n",
    "    vidFile.release()\n",
    "    print(\" Successfully converted images in allImg to \"+output_vid)\n",
    "    return None\n"
   ]
  },
  {
   "cell_type": "code",
   "execution_count": 13,
   "metadata": {},
   "outputs": [],
   "source": [
    "def get_dynamic_video(pred_lm_fps, input_pred_lm_filename, target_lm_filename, input_video_filename, target_video_filename):\n",
    "#     input_pred_lm_filename is the preddicted 20D landmarks .mat  file format with y_pred as the key for landmarks\n",
    "#     target_lm_filename is the target video 68D landmarks in .mat file format with ypred as the key for the landmarks\n",
    "#     default pred landmark fps = 25\n",
    "#     input_video_filename is the video corresponding to input_pred_lm_filename\n",
    "#     target_video_filename is the target video filename\n",
    "    print('reading file:'+input_pred_lm_filename)\n",
    "    lm_src=sio.loadmat(input_pred_lm_filename)['y_pred']\n",
    "    print('reading file:'+target_lm_filename)\n",
    "    full_lm_dst=sio.loadmat(target_lm_filename)['ypred']\n",
    "    lm_dst=full_lm_dst[:,-20:]\n",
    "    lm_center_src = lm_src[:,[14,16]]\n",
    "    lower_lm_src = lm_center_src[:,1,0]\n",
    "    lower_lm_src = (lower_lm_src-lower_lm_src.min())/(lower_lm_src.max()-lower_lm_src.min())\n",
    "    \n",
    "    lm_center_dst = lm_dst[:,[14,16]]\n",
    "    lower_lm_dst = lm_center_dst[:,1,0]\n",
    "    lower_lm_dst = (lower_lm_dst-lower_lm_dst.min())/(lower_lm_dst.max()-lower_lm_dst.min())\n",
    "    \n",
    "    k_centers=np.array([0.0,0.2,0.4,0.6,0.8,1.0]).astype('float')\n",
    "    \n",
    "    \n",
    "    neigh = NearestNeighbors(1)\n",
    "    neigh.fit(np.expand_dims(lower_lm_dst,1))\n",
    "    dst_centroids=neigh.kneighbors(np.expand_dims(k_centers,1), 1, return_distance=False)\n",
    "    \n",
    "    neigh = NearestNeighbors(1)\n",
    "    neigh.fit(np.expand_dims(k_centers,1))\n",
    "    src_assignment=neigh.kneighbors(np.expand_dims(lower_lm_src,1), 1, return_distance=False)\n",
    "    \n",
    "    dst_frame_ids_for_source=dst_centroids[src_assignment].squeeze()\n",
    "    temp=[]\n",
    "    for i in range(0,5):\n",
    "        temp.append(dst_frame_ids_for_source[0])\n",
    "    dst_frame_ids_for_source=np.array(temp+dst_frame_ids_for_source.tolist())\n",
    "    \n",
    "    print('reading file:'+target_video_filename)\n",
    "    allImg_im1=vid2img(target_video_filename)\n",
    "    allImg_dst2src=[]\n",
    "    dynamic_lm_dst=[]\n",
    "    for i in dst_frame_ids_for_source:\n",
    "        allImg_dst2src.append(allImg_im1[i])\n",
    "        dynamic_lm_dst.append(full_lm_dst[i])\n",
    "    dynamic_lm_dst=np.array(dynamic_lm_dst)\n",
    "    dynamic_lm_dst[0]\n",
    "    sio.savemat('Dynamic_LM.mat',{'lm':dynamic_lm_dst})\n",
    "    allImg2vid(allImg_dst2src,'output_with_jaw.mp4',frameRate=pred_lm_fps)\n",
    "    print('Running shell script')\n",
    "    shell_command='ffmpeg -i output_with_jaw.mp4 -i '+input_video_filename+' -c copy -map 0:v:0 -map 1:a:0 -shortest out_with_jaw_body.mp4'\n",
    "    os.system(shell_command)\n",
    "    return None"
   ]
  },
  {
   "cell_type": "code",
   "execution_count": 15,
   "metadata": {},
   "outputs": [
    {
     "name": "stdout",
     "output_type": "stream",
     "text": [
      "reading file:CV_01_C4W1L01_000003_to_000045_hindi_abhishek_generated_lip_landmarks.mat\n",
      "reading file:ANDREW_NG_CV_01_C4W1L01_000003_to_000045_landmarks_in_frames.mat\n",
      "reading file:input_videos/CV_01_C4W1L01_000003_to_000045/CV_01_C4W1L01_000003_to_000045.mp4\n"
     ]
    },
    {
     "name": "stderr",
     "output_type": "stream",
     "text": [
      "100%|██████████| 1107/1107 [00:05<00:00, 185.48it/s]\n"
     ]
    },
    {
     "name": "stdout",
     "output_type": "stream",
     "text": [
      " Successfully converted images in allImg to output_with_jaw.mp4\n",
      "Running shell script\n"
     ]
    }
   ],
   "source": [
    "get_dynamic_video(pred_lm_fps=25, input_pred_lm_filename='CV_01_C4W1L01_000003_to_000045_hindi_abhishek_generated_lip_landmarks.mat', target_lm_filename='ANDREW_NG_CV_01_C4W1L01_000003_to_000045_landmarks_in_frames.mat', input_video_filename='input_videos/CV_01_C4W1L01_000003_to_000045/CV_01_C4W1L01_000003_to_000045_hindi_abhishek_making.mp4', target_video_filename='input_videos/CV_01_C4W1L01_000003_to_000045/CV_01_C4W1L01_000003_to_000045.mp4')"
   ]
  }
 ],
 "metadata": {
  "kernelspec": {
   "display_name": "Python 3",
   "language": "python",
   "name": "python3"
  },
  "language_info": {
   "codemirror_mode": {
    "name": "ipython",
    "version": 3
   },
   "file_extension": ".py",
   "mimetype": "text/x-python",
   "name": "python",
   "nbconvert_exporter": "python",
   "pygments_lexer": "ipython3",
   "version": "3.5.2"
  }
 },
 "nbformat": 4,
 "nbformat_minor": 2
}
